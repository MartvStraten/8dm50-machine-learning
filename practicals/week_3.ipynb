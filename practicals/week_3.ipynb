{
 "cells": [
  {
   "cell_type": "markdown",
   "metadata": {},
   "source": [
    "# Preliminaries\n",
    "\n",
    "The `pandas` library allows the user several data structures for different data manipulation tasks:\n",
    "1. Data storage through its `Series` and `DataFrame` data structures.\n",
    "2. Data filtering using multiple methods from the package.\n",
    "3. Reading data from many different file formats such as `csv`, `txt`, `xlsx`, ...\n",
    "\n",
    "Below we provide a brief overview of the `pandas` functionalities needed for these exercises. The complete documentation can be found on the [`pandas` website](https://pandas.pydata.org/).\n",
    "\n",
    "## Pandas data structures\n",
    "\n",
    "### Series\n",
    "The Pandas Series data structure is similar to a one-dimensional array. It can store any type of data. The values are mutable but the size not.\n",
    "\n",
    "To create `Series`, we call the `pd.Series()` method and pass an array. A `Series` may also be created from a numpy array."
   ]
  },
  {
   "cell_type": "code",
   "execution_count": 2,
   "metadata": {},
   "outputs": [
    {
     "name": "stdout",
     "output_type": "stream",
     "text": [
      "0       1\n",
      "1      10\n",
      "2     100\n",
      "3    1000\n",
      "dtype: int64\n",
      "\n",
      "\n",
      "0          PSV\n",
      "1         Ajax\n",
      "2    Feyenoord\n",
      "3       Twente\n",
      "dtype: object\n"
     ]
    }
   ],
   "source": [
    "import pandas as pd\n",
    "import numpy as np\n",
    "from Code_practicals_3 import *\n",
    "\n",
    "first_series = pd.Series([1,10,100,1000])\n",
    "\n",
    "print(first_series)\n",
    "\n",
    "teams = np.array(['PSV','Ajax','Feyenoord','Twente'])\n",
    "second_series = pd.Series(teams)\n",
    "\n",
    "print('\\n')\n",
    "print(second_series)"
   ]
  },
  {
   "cell_type": "markdown",
   "metadata": {},
   "source": [
    "### DataFrame\n",
    "One can think of a `DataFrame` as a table with rows and columns (2D structure). The columns can be of a different type (as opposed to `numpy` arrays) and the size of the `DataFrame` is mutable.\n",
    "\n",
    "To create `DataFrame`, we call the `pd.DataFrame()` method and we can create it from scratch or we can convert a numpy array or a list into a `DataFrame`."
   ]
  },
  {
   "cell_type": "code",
   "execution_count": 3,
   "metadata": {},
   "outputs": [
    {
     "name": "stdout",
     "output_type": "stream",
     "text": [
      "From scratch: \n",
      "    Position       Team  GF  GA  Points\n",
      "0         1        PSV  80  30      79\n",
      "1         2       Ajax  75  25      78\n",
      "2         3  Feyenoord  75  40      70\n",
      "3         4     Twente  70  60      66 \n",
      "\n",
      "From list: \n",
      "   Position       Team  GF  GA Points\n",
      "0        1        PSV  80  30     79\n",
      "1        2       Ajax  75  25     78\n",
      "2        3  Feyenoord  75  40     70\n",
      "3        4     Twente  70  60     66 \n",
      "\n",
      "From numpy array: \n",
      "   Position       Team  GF  GA Points\n",
      "0        1        PSV  80  30     79\n",
      "1        2       Ajax  75  25     78\n",
      "2        3  Feyenoord  75  40     70\n",
      "3        4     Twente  70  60     66 \n",
      "\n"
     ]
    }
   ],
   "source": [
    "# DataFrame from scratch\n",
    "first_dataframe = pd.DataFrame({\n",
    "    \"Position\": [1, 2, 3, 4],\n",
    "    \"Team\": ['PSV','Ajax','Feyenoord','Twente'],\n",
    "    \"GF\": [80, 75, 75, 70],\n",
    "    \"GA\": [30, 25, 40, 60],\n",
    "    \"Points\": [79, 78, 70, 66]\n",
    "})\n",
    "\n",
    "print(\"From scratch: \\n {} \\n\".format(first_dataframe))\n",
    "\n",
    "# DataFrme from a list\n",
    "data = [[1, 2, 3, 4], ['PSV','Ajax','Feyenoord','Twente'], \n",
    "        [80, 75, 75, 70], [30, 25, 40, 60], [79, 78, 70, 66]]\n",
    "columns = [\"Position\", \"Team\", \"GF\", \"GA\", \"Points\"]\n",
    "\n",
    "second_dataframe = pd.DataFrame(data, index=columns)\n",
    "\n",
    "print(\"From list: \\n {} \\n\".format(second_dataframe.T)) # the '.T' operator is explained later on\n",
    "\n",
    "# DataFrame from numpy array\n",
    "data = np.array([[1, 2, 3, 4], ['PSV','Ajax','Feyenoord','Twente'], \n",
    "                 [80, 75, 75, 70], [30, 25, 40, 60], [79, 78, 70, 66]])\n",
    "columns = [\"Position\", \"Team\", \"GF\", \"GA\", \"Points\"]\n",
    "\n",
    "third_dataframe = pd.DataFrame(data.T, columns=columns)\n",
    "\n",
    "print(\"From numpy array: \\n {} \\n\".format(third_dataframe))"
   ]
  },
  {
   "cell_type": "markdown",
   "metadata": {},
   "source": [
    "### DataFrame attributes\n",
    "This section gives a quick overview of some of the `pandas.DataFrame` attributes such as `T`, `index`, `columns`, `iloc`, `loc`, `shape` and `values`."
   ]
  },
  {
   "cell_type": "code",
   "execution_count": 4,
   "metadata": {},
   "outputs": [
    {
     "name": "stdout",
     "output_type": "stream",
     "text": [
      "            0     1          2       3\n",
      "Position    1     2          3       4\n",
      "Team      PSV  Ajax  Feyenoord  Twente\n",
      "GF         80    75         75      70\n",
      "GA         30    25         40      60\n",
      "Points     79    78         70      66\n"
     ]
    }
   ],
   "source": [
    "# transpose the index and columns\n",
    "print(third_dataframe.T)"
   ]
  },
  {
   "cell_type": "code",
   "execution_count": 5,
   "metadata": {},
   "outputs": [
    {
     "name": "stdout",
     "output_type": "stream",
     "text": [
      "RangeIndex(start=0, stop=4, step=1)\n"
     ]
    }
   ],
   "source": [
    "# index makes reference to the row labels\n",
    "print(third_dataframe.index)"
   ]
  },
  {
   "cell_type": "code",
   "execution_count": 6,
   "metadata": {},
   "outputs": [
    {
     "name": "stdout",
     "output_type": "stream",
     "text": [
      "Index(['Position', 'Team', 'GF', 'GA', 'Points'], dtype='object')\n"
     ]
    }
   ],
   "source": [
    "# columns makes reference to the column labels\n",
    "print(third_dataframe.columns)"
   ]
  },
  {
   "cell_type": "code",
   "execution_count": 7,
   "metadata": {},
   "outputs": [
    {
     "name": "stdout",
     "output_type": "stream",
     "text": [
      "0          PSV\n",
      "1         Ajax\n",
      "2    Feyenoord\n",
      "3       Twente\n",
      "Name: Team, dtype: object\n"
     ]
    }
   ],
   "source": [
    "# iloc allows to access the index by integer-location (e.g. all team names, which are in the second columm)\n",
    "print(third_dataframe.iloc[:,1])"
   ]
  },
  {
   "cell_type": "code",
   "execution_count": 8,
   "metadata": {},
   "outputs": [
    {
     "name": "stdout",
     "output_type": "stream",
     "text": [
      "PSV\n"
     ]
    }
   ],
   "source": [
    "# loc allows to access the index by label(s)-location (e.g. all team names, which are in the \"Team\" columm)\n",
    "print(third_dataframe.loc[0, 'Team'])"
   ]
  },
  {
   "cell_type": "code",
   "execution_count": 9,
   "metadata": {},
   "outputs": [
    {
     "name": "stdout",
     "output_type": "stream",
     "text": [
      "(4, 5)\n"
     ]
    }
   ],
   "source": [
    "# shape returns a tuple with the DataFrame dimension, similar to numpy\n",
    "print(third_dataframe.shape)"
   ]
  },
  {
   "cell_type": "code",
   "execution_count": 10,
   "metadata": {},
   "outputs": [
    {
     "name": "stdout",
     "output_type": "stream",
     "text": [
      "[['1' 'PSV' '80' '30' '79']\n",
      " ['2' 'Ajax' '75' '25' '78']\n",
      " ['3' 'Feyenoord' '75' '40' '70']\n",
      " ['4' 'Twente' '70' '60' '66']]\n"
     ]
    }
   ],
   "source": [
    "# values return a Numpy representation of the DataFrame data\n",
    "print(third_dataframe.values)"
   ]
  },
  {
   "cell_type": "markdown",
   "metadata": {},
   "source": [
    "### DataFrame methods\n",
    "This section gives a quick overview of some of the `pandas.DataFrame` methods such as `head`, `describe`, `concat`, `groupby`,`rename`, `filter`, `drop` and `isna`. To import data from CSV or MS Excel files, we can make use of `read_csv` and `read_excel`, respectively."
   ]
  },
  {
   "cell_type": "code",
   "execution_count": 11,
   "metadata": {},
   "outputs": [
    {
     "name": "stdout",
     "output_type": "stream",
     "text": [
      "  Position       Team  GF  GA Points\n",
      "0        1        PSV  80  30     79\n",
      "1        2       Ajax  75  25     78\n",
      "2        3  Feyenoord  75  40     70\n",
      "3        4     Twente  70  60     66\n"
     ]
    }
   ],
   "source": [
    "# print the first few rows in your dataset with head()\n",
    "print(third_dataframe.head()) # In this case, it is not very useful because we don't have thousands of rows"
   ]
  },
  {
   "cell_type": "code",
   "execution_count": 12,
   "metadata": {},
   "outputs": [
    {
     "name": "stdout",
     "output_type": "stream",
     "text": [
      "       Position Team  GF  GA Points\n",
      "count         4    4   4   4      4\n",
      "unique        4    4   3   4      4\n",
      "top           1  PSV  75  30     79\n",
      "freq          1    1   2   1      1\n"
     ]
    }
   ],
   "source": [
    "# get the summary statistics of the DataFrame with describe()\n",
    "print(third_dataframe.describe())"
   ]
  },
  {
   "cell_type": "code",
   "execution_count": 13,
   "metadata": {},
   "outputs": [
    {
     "name": "stdout",
     "output_type": "stream",
     "text": [
      "  Position  Team  GF  GA Points\n",
      "0        1   PSV  80  30     79\n",
      "1        2  Ajax  75  25     78\n",
      "\n",
      "\n",
      "  Position       Team  GF  GA Points\n",
      "2        3  Feyenoord  75  40     70\n",
      "3        4     Twente  70  60     66\n",
      "\n",
      "\n",
      "  Position       Team  GF  GA Points\n",
      "0        1        PSV  80  30     79\n",
      "1        2       Ajax  75  25     78\n",
      "2        3  Feyenoord  75  40     70\n",
      "3        4     Twente  70  60     66\n"
     ]
    }
   ],
   "source": [
    "# concatenate (join) DataFrame objects using concat()\n",
    "\n",
    "# first, we will split the above DataFrame in two different ones\n",
    "df_a = third_dataframe.loc[[0,1],:]\n",
    "df_b = third_dataframe.loc[[2,3],:]\n",
    "\n",
    "print(df_a)\n",
    "print('\\n')\n",
    "\n",
    "print(df_b)\n",
    "print('\\n')\n",
    "\n",
    "# now, we concatenate both datasets\n",
    "df = pd.concat([df_a, df_b])\n",
    "\n",
    "print(df)"
   ]
  },
  {
   "cell_type": "code",
   "execution_count": 14,
   "metadata": {},
   "outputs": [
    {
     "name": "stdout",
     "output_type": "stream",
     "text": [
      "  Position       Team  GF  GA Points\n",
      "1        2       Ajax  75  25     78\n",
      "2        3  Feyenoord  75  40     70\n"
     ]
    }
   ],
   "source": [
    "# group the data by certain variable via groupby()\n",
    "# here, we have grouped the data by goals for, which in this case is 75\n",
    "\n",
    "group = df.groupby('GF')\n",
    "\n",
    "print(group.get_group('75'))"
   ]
  },
  {
   "cell_type": "code",
   "execution_count": 15,
   "metadata": {},
   "outputs": [
    {
     "name": "stdout",
     "output_type": "stream",
     "text": [
      "  Pos       Club  GF  GA Points\n",
      "0   1        PSV  80  30     79\n",
      "1   2       Ajax  75  25     78\n",
      "2   3  Feyenoord  75  40     70\n",
      "3   4     Twente  70  60     66\n"
     ]
    }
   ],
   "source": [
    "# rename() helps you change the column or index names\n",
    "print(df.rename(columns={'Position':'Pos','Team':'Club'}))"
   ]
  },
  {
   "cell_type": "code",
   "execution_count": 16,
   "metadata": {},
   "outputs": [
    {
     "name": "stdout",
     "output_type": "stream",
     "text": [
      "        Team Points\n",
      "0        PSV     79\n",
      "1       Ajax     78\n",
      "2  Feyenoord     70\n",
      "3     Twente     66\n"
     ]
    }
   ],
   "source": [
    "# build a subset of rows or columns of your dataset according to labels via filter()\n",
    "# here, items refer to the variable names: 'Team' and 'Points'; to select columns, we specify axis=1\n",
    "print(df.filter(items=['Team', 'Points'], axis=1))"
   ]
  },
  {
   "cell_type": "code",
   "execution_count": 17,
   "metadata": {},
   "outputs": [
    {
     "name": "stdout",
     "output_type": "stream",
     "text": [
      "  Position       Team Points\n",
      "0        1        PSV     79\n",
      "1        2       Ajax     78\n",
      "2        3  Feyenoord     70\n",
      "3        4     Twente     66\n"
     ]
    }
   ],
   "source": [
    "# dropping some labels\n",
    "print(df.drop(columns=['GF', 'GA']))"
   ]
  },
  {
   "cell_type": "code",
   "execution_count": 18,
   "metadata": {},
   "outputs": [
    {
     "name": "stdout",
     "output_type": "stream",
     "text": [
      "   Position   Team     GF     GA  Points\n",
      "0     False  False  False  False   False\n",
      "1     False  False  False  False   False\n",
      "2     False  False  False  False   False\n",
      "3     False  False  False  False   False\n",
      "\n",
      "\n",
      "  Position       Team  GF  GA Points     W\n",
      "0        1        PSV  80  30     79   NaN\n",
      "1        2       Ajax  75  25     78  25.0\n",
      "2        3  Feyenoord  75  40     70  24.0\n",
      "3        4     Twente  70  60     66  19.0\n",
      "\n",
      "\n",
      "   Position   Team     GF     GA  Points      W\n",
      "0     False  False  False  False   False   True\n",
      "1     False  False  False  False   False  False\n",
      "2     False  False  False  False   False  False\n",
      "3     False  False  False  False   False  False\n"
     ]
    }
   ],
   "source": [
    "# search for NA (not available) entries in the DataFrame\n",
    "print(df.isna()) # No NA values\n",
    "print('\\n')\n",
    "\n",
    "# create a pandas Series with a NA value\n",
    "# the Series as W (winnin matches)\n",
    "tmp = pd.Series([np.NaN, 25, 24, 19],  name=\"W\")\n",
    "\n",
    "# concatenate the Series with the DataFrame\n",
    "df = pd.concat([df,tmp], axis = 1)\n",
    "print(df)\n",
    "print('\\n')\n",
    "\n",
    "# again, check for NA entries\n",
    "print(df.isna())"
   ]
  },
  {
   "cell_type": "markdown",
   "metadata": {},
   "source": [
    "## Dataset\n",
    "\n",
    "For this week exercises we will use a dataset from the Genomics of Drug Sensitivity in Cancer (GDSC) project (https://www.cancerrxgene.org/). In this study (['Iorio et al., Cell, 2016']()), 265 compounds were tested on 1001 cancer cell lines for which different types of -omics data (RNA expression, DNA methylation, Copy Number Alteration, DNA sequencing) are available. This is a valuable resource to look for biomarkers of drugs sensitivity in order to try to understand why cancer patients responds very differently to cancer drugs and find ways to assign the optimal treatment to each patient.\n",
    "\n",
    "For this exercise we will use a subset of the data, focusing the response to the drug YM155 (Sepantronium bromide) on four cancer types, for a total of 148 cancer cell lines.\n",
    "\n",
    "| ID          | Cancer type                      |\n",
    "|-------------|----------------------------------|\n",
    "|   COAD/READ | Colorectal adenocarcinoma        |\n",
    "|   NB        | Neuroblastoma                    |\n",
    "|   KIRC      | Kidney renal clear cell carcinoma|\n",
    "|   BRCA      | Breast carcinoma                 |\n",
    "\n",
    "We will use the RNA expression data (RMA normalised). Only genes with high variability across cell lines (variance > 5, resulting in 238 genes) have been kept.\n",
    "\n",
    "Drugs have been tested at different concentration, measuring each time the viability of the cells. Drug sensitivity is measured using the natural log of the fitted IC50 metric, which is defined as the half maximal inhibitory concentration. A lower IC50 corresponds to a more sensitive cell line because a lower amount of drug is sufficient to have a strong response, while a higher IC50 corresponds to a more resistant cell line because more drug is needed for killing the cells.\n",
    "\n",
    "Based on the IC50 metric, cells can be classified as sensitive or resistant. The classification is done by computing the $z$-score across all cell lines in the GDSC for each drug, and considering as sensitive the ones with $z$-score < 0 and resistant the ones with $z$-score > 0.\n",
    "\n",
    "The dataset is originally provided as 3 files ([original source](https://www.sciencedirect.com/science/article/pii/S0092867416307462?via%3Dihub)) :\n",
    "\n",
    "`GDSC_RNA_expression.csv`: gene expression matrix with the cell lines in the rows (148) and the genes in the columns (238).\n",
    "\n",
    "`GDSC_drug_response.csv`: vector with the cell lines response to the drug YM155 in terms of log(IC50) and as classification in sensitive or resistant.\n",
    "\n",
    "`GDSC_metadata.csv`: metadata for the 148 cell lines including name, COSMIC ID and tumor type (using the classification from ['The Cancer Genome Atlas TCGA'](https://www.cancer.gov/about-nci/organization/ccg/research/structural-genomics/tcga))\n",
    "\n",
    "For convenience, we provide the data already curated.\n",
    "\n",
    "`RNA_expression_curated.csv`: [148 cell lines , 238 genes]\n",
    "\n",
    "`drug_response_curated.csv`: [148 cell lines , YM155 drug]\n",
    "\n",
    "The curated data cam be read as `pandas` `DataFrame`s in the following way:"
   ]
  },
  {
   "cell_type": "code",
   "execution_count": 19,
   "metadata": {},
   "outputs": [],
   "source": [
    "import pandas as pd\n",
    "\n",
    "gene_expression = pd.read_csv(\"./data/RNA_expression_curated.csv\", sep=',', header=0, index_col=0)\n",
    "drug_response = pd.read_csv(\"./data/drug_response_curated.csv\", sep=',', header=0, index_col=0)"
   ]
  },
  {
   "cell_type": "markdown",
   "metadata": {},
   "source": [
    "You can use the `DataFrame`s directly as inputs to the the `sklearn` models. The advantage over using `numpy` arrays is that the variable are annotated, i.e. each input and output has a name."
   ]
  },
  {
   "cell_type": "markdown",
   "metadata": {},
   "source": [
    "## Tools\n",
    "The `scikit-learn` library provides the required tools for linear regression/classification and shrinkage, as well as for logistic regression."
   ]
  },
  {
   "cell_type": "code",
   "execution_count": 20,
   "metadata": {},
   "outputs": [],
   "source": [
    "from sklearn.linear_model import LinearRegression\n",
    "from sklearn.linear_model import Ridge\n",
    "from sklearn.linear_model import Lasso\n",
    "from sklearn.linear_model import LogisticRegression\n",
    "from sklearn.model_selection import train_test_split\n",
    "from Code_practicals_3 import *"
   ]
  },
  {
   "cell_type": "markdown",
   "metadata": {},
   "source": [
    "Note that the notation used for the hyperparameters in the `scikit-learn` library is different from the one used in the lecture. More specifically, in the lecture $\\alpha$ is the tunable parameter to select the compromise between Ridge and Lasso. Whereas, `scikit-learn` library refers to `alpha` as the tunable parameter $\\lambda$. Please check the documentation for more details."
   ]
  },
  {
   "cell_type": "markdown",
   "metadata": {},
   "source": [
    "# Exercises\n",
    "\n",
    "## Selection of the hyperparameter\n",
    "\n",
    "Implement cross-validation (using `sklearn.grid_search.GridSearchCV`) to select the `alpha` hyperparameter of `sklearn.linear_model.Lasso`. "
   ]
  },
  {
   "cell_type": "code",
   "execution_count": 21,
   "metadata": {},
   "outputs": [
    {
     "name": "stdout",
     "output_type": "stream",
     "text": [
      "1\n"
     ]
    }
   ],
   "source": [
    "X = gene_expression.values\n",
    "y = drug_response.values\n",
    "\n",
    "# Split the data into training and testing sets\n",
    "X_train, X_test, y_train, y_test = train_test_split(X, y, test_size=0.2)\n",
    "\n",
    "# Define the alpha values you wanted to be tested in the grid search\n",
    "alpha = {'alpha': [0.001, 0.01, 0.1, 1, 10, 100]}\n",
    "\n",
    "# \n",
    "best_alpha = hyperparamter_selection(X_train, X_test, y_train, y_test, alpha)\n",
    "\n",
    "print(best_alpha)"
   ]
  },
  {
   "cell_type": "markdown",
   "metadata": {},
   "source": [
    "## Feature selection\n"
   ]
  },
  {
   "cell_type": "code",
   "execution_count": 24,
   "metadata": {},
   "outputs": [
    {
     "data": {
      "text/plain": [
       "array([['ABCB1', 0.43365629597847244],\n",
       "       ['TSPAN8', 0.1194443646850918],\n",
       "       ['GAL', 0.04750601753736951],\n",
       "       ['FABP1', 0.03659930008863378],\n",
       "       ['SEPP1', 0.0],\n",
       "       ['RAB17', 0.0],\n",
       "       ['SLPI', 0.0],\n",
       "       ['SRGN', 0.0],\n",
       "       ['TWIST1', 0.0],\n",
       "       ['TNFSF10', 0.0],\n",
       "       ['PLBD1', 0.0],\n",
       "       ['DUSP4', 0.0],\n",
       "       ['TGFBI', 0.0],\n",
       "       ['EPCAM', 0.0],\n",
       "       ['CNRIP1', 0.0],\n",
       "       ['RARRES1', 0.0],\n",
       "       ['BMP4', 0.0],\n",
       "       ['SPP1', 0.0],\n",
       "       ['VAMP8', 0.0],\n",
       "       ['CTGF', 0.0],\n",
       "       ['TSPAN1', 0.0],\n",
       "       ['RGS4', 0.0],\n",
       "       ['IGFBP2', 0.0],\n",
       "       ['FN1', 0.0],\n",
       "       ['EFEMP1', 0.0],\n",
       "       ['GALNT3', 0.0],\n",
       "       ['C3orf14', 0.0],\n",
       "       ['SPARC', 0.0],\n",
       "       ['TPD52L1', 0.0],\n",
       "       ['LDHB', 0.0],\n",
       "       ['MT2A', 0.0],\n",
       "       ['IFI6', 0.0],\n",
       "       ['C3', 0.0],\n",
       "       ['MDK', 0.0],\n",
       "       ['SYTL2', 0.0],\n",
       "       ['FGFBP1', 0.0],\n",
       "       ['IER3', 0.0],\n",
       "       ['TUBB2B', 0.0],\n",
       "       ['MYC', 0.0],\n",
       "       ['SERPINE2', 0.0],\n",
       "       ['KRT7', 0.0],\n",
       "       ['PRPH', 0.0],\n",
       "       ['ANXA1', 0.0],\n",
       "       ['FAM127A', 0.0],\n",
       "       ['MYCN', 0.0],\n",
       "       ['RARRES3', 0.0],\n",
       "       ['BEX1', 0.0],\n",
       "       ['RNF128', 0.0],\n",
       "       ['RAB25', 0.0],\n",
       "       ['RAMP1', 0.0],\n",
       "       ['LGALS3', 0.0],\n",
       "       ['PPP1R1B', 0.0],\n",
       "       ['MAP1B', 0.0],\n",
       "       ['AKAP12', 0.0],\n",
       "       ['GDF15', 0.0],\n",
       "       ['PXDN', 0.0],\n",
       "       ['BST2', 0.0],\n",
       "       ['RPS4Y1', 0.0],\n",
       "       ['GNG11', 0.0],\n",
       "       ['MGP', 0.0],\n",
       "       ['NMU', 0.0],\n",
       "       ['CPE', 0.0],\n",
       "       ['SYT1', 0.0],\n",
       "       ['LGALS1', 0.0],\n",
       "       ['DSP', 0.0],\n",
       "       ['LYZ', 0.0],\n",
       "       ['TESC', 0.0],\n",
       "       ['GSTP1', 0.0],\n",
       "       ['CXCL2', 0.0],\n",
       "       ['CHRNA3', 0.0],\n",
       "       ['CDH17', 0.0],\n",
       "       ['EDN1', 0.0],\n",
       "       ['HOXA9', 0.0],\n",
       "       ['CA12', 0.0],\n",
       "       ['IGF2BP2', 0.0],\n",
       "       ['KIF26A', 0.0],\n",
       "       ['SQRDL', 0.0],\n",
       "       ['MYLK', 0.0],\n",
       "       ['CSDA', 0.0],\n",
       "       ['CYBA', 0.0],\n",
       "       ['VCAN', 0.0],\n",
       "       ['CD44', 0.0],\n",
       "       ['VIM', 0.0],\n",
       "       ['SERPINB1', 0.0],\n",
       "       ['SNAI2', 0.0],\n",
       "       ['ISL1', 0.0],\n",
       "       ['PRSS3', 0.0],\n",
       "       ['MGST1', 0.0],\n",
       "       ['TFAP2B', 0.0],\n",
       "       ['PYGL', 0.0],\n",
       "       ['PLEK2', 0.0],\n",
       "       ['CHGA', 0.0],\n",
       "       ['CTSZ', 0.0],\n",
       "       ['PHOX2B', 0.0],\n",
       "       ['RAB34', 0.0],\n",
       "       ['KRT23', 0.0],\n",
       "       ['DKK1', 0.0],\n",
       "       ['ACTA2', 0.0],\n",
       "       ['GATA3', 0.0],\n",
       "       ['ELAVL2', 0.0],\n",
       "       ['AGR2', 0.0],\n",
       "       ['RARRES2', 0.0],\n",
       "       ['SERPINE1', 0.0],\n",
       "       ['CAV1', 0.0],\n",
       "       ['CAV2', 0.0],\n",
       "       ['DFNA5', 0.0],\n",
       "       ['PTN', 0.0],\n",
       "       ['CEACAM5', 0.0],\n",
       "       ['TNNT1', 0.0],\n",
       "       ['NEFL', 0.0],\n",
       "       ['TUSC3', 0.0],\n",
       "       ['STMN2', 0.0],\n",
       "       ['ESRP1', 0.0],\n",
       "       ['CA2', 0.0],\n",
       "       ['QPRT', 0.0],\n",
       "       ['ESRP2', 0.0],\n",
       "       ['KLF5', 0.0],\n",
       "       ['BEX4', 0.0],\n",
       "       ['MMP7', 0.0],\n",
       "       ['MYOF', 0.0],\n",
       "       ['HLA-B', 0.0],\n",
       "       ['GPR160', 0.0],\n",
       "       ['CLRN3', 0.0],\n",
       "       ['MAB21L1', 0.0],\n",
       "       ['TSPYL5', 0.0],\n",
       "       ['APOBEC3B', 0.0],\n",
       "       ['IRX3', 0.0],\n",
       "       ['BASP1', 0.0],\n",
       "       ['PRR15', 0.0],\n",
       "       ['GPX2', 0.0],\n",
       "       ['NUPR1', 0.0],\n",
       "       ['TUBB6', 0.0],\n",
       "       ['SFN', 0.0],\n",
       "       ['HOXB2', 0.0],\n",
       "       ['MUC13', 0.0],\n",
       "       ['C1S', 0.0],\n",
       "       ['AGR3', 0.0],\n",
       "       ['LRRN3', 0.0],\n",
       "       ['MUCL1', 0.0],\n",
       "       ['SCG2', 0.0],\n",
       "       ['LGALS4', 0.0],\n",
       "       ['KRT20', 0.0],\n",
       "       ['KRT19', 0.0],\n",
       "       ['UGT2B7', 0.0],\n",
       "       ['CDH2', 0.0],\n",
       "       ['KRT8', 0.0],\n",
       "       ['FOS', 0.0],\n",
       "       ['TM4SF1', 0.0],\n",
       "       ['PNMAL1', 0.0],\n",
       "       ['PCP4', 0.0],\n",
       "       ['ANXA3', 0.0],\n",
       "       ['DPP4', 0.0],\n",
       "       ['PHGR1', 0.0],\n",
       "       ['MIR205HG', 0.0],\n",
       "       ['UCA1', 0.0],\n",
       "       ['AKR1B10P1', 0.0],\n",
       "       ['MLLT11', 0.0],\n",
       "       ['SERPINB5', 0.0],\n",
       "       ['HSPA1A', 0.0],\n",
       "       ['PSMB8', 0.0],\n",
       "       ['EPS8L3', 0.0],\n",
       "       ['AKR1B10', 0.0],\n",
       "       ['S100A6', 0.0],\n",
       "       ['S100A10', 0.0],\n",
       "       ['ACSL5', 0.0],\n",
       "       ['TACSTD2', 0.0],\n",
       "       ['ANXA4', 0.0],\n",
       "       ['SULF2', 0.0],\n",
       "       ['S100A4', 0.0],\n",
       "       ['AKR1C3', 0.0],\n",
       "       ['SYCP2', 0.0],\n",
       "       ['S100A14', 0.0],\n",
       "       ['CLDN4', 0.0],\n",
       "       ['S100A16', 0.0],\n",
       "       ['AKR1C1', 0.0],\n",
       "       ['IFIT1', 0.0],\n",
       "       ['PRAME', 0.0],\n",
       "       ['IFITM2', 0.0],\n",
       "       ['TM4SF4', 0.0],\n",
       "       ['SDC2', 0.0],\n",
       "       ['IGFBP6', 0.0],\n",
       "       ['MSN', 0.0],\n",
       "       ['TFF3', 0.0],\n",
       "       ['TMSB15A', 0.0],\n",
       "       ['KRTCAP3', 0.0],\n",
       "       ['MX1', 0.0],\n",
       "       ['UCHL1', 0.0],\n",
       "       ['PLOD2', 0.0],\n",
       "       ['SPOCK1', 0.0],\n",
       "       ['AKR1C2', 0.0],\n",
       "       ['PRSS23', 0.0],\n",
       "       ['LCN2', 0.0],\n",
       "       ['PLIN2', 0.0],\n",
       "       ['MAL2', 0.0],\n",
       "       ['IGFBP3', 0.0],\n",
       "       ['C19orf33', 0.0],\n",
       "       ['PLK2', 0.0],\n",
       "       ['SLC10A4', 0.0],\n",
       "       ['SELENBP1', 0.0],\n",
       "       ['RGS5', 0.0],\n",
       "       ['CYR61', 0.0],\n",
       "       ['EMP3', 0.0],\n",
       "       ['IFITM3', 0.0],\n",
       "       ['GCNT3', 0.0],\n",
       "       ['SLC27A2', 0.0],\n",
       "       ['RTN1', 0.0],\n",
       "       ['DUSP6', 0.0],\n",
       "       ['ERP27', 0.0],\n",
       "       ['TFF1', 0.0],\n",
       "       ['AZGP1', 0.0],\n",
       "       ['EMC10', 0.0],\n",
       "       ['PDZK1IP1', 0.0],\n",
       "       ['SPINT2', 0.0],\n",
       "       ['TMC4', 0.0],\n",
       "       ['TUBA1A', 0.0],\n",
       "       ['IGF2', 0.0],\n",
       "       ['PRR15L', 0.0],\n",
       "       ['SCG5', 0.0],\n",
       "       ['C15orf48', 0.0],\n",
       "       ['NNMT', 0.0],\n",
       "       ['NGFRAP1', 0.0],\n",
       "       ['CENPV', 0.0],\n",
       "       ['HTRA1', 0.0],\n",
       "       ['IFI27', 0.0],\n",
       "       ['CDX2', 0.0],\n",
       "       ['CLDN3', 0.0],\n",
       "       ['FBP1', 0.0],\n",
       "       ['ALDH1A1', 0.0],\n",
       "       ['FOXQ1', 0.0],\n",
       "       ['HAND2', 0.0],\n",
       "       ['S100P', 0.0],\n",
       "       ['RPL39L', 0.0],\n",
       "       ['IFI16', 0.0],\n",
       "       ['S100A9', 0.0],\n",
       "       ['S100A11', 0.0],\n",
       "       ['INHBB', 0.0],\n",
       "       ['ELAVL4', 0.0],\n",
       "       ['TFPI', 0.0]], dtype=object)"
      ]
     },
     "execution_count": 24,
     "metadata": {},
     "output_type": "execute_result"
    }
   ],
   "source": [
    "train_result = get_sorted_features(X_train, y_train, gene_expression.columns ,best_alpha)\n",
    "train_result"
   ]
  },
  {
   "cell_type": "code",
   "execution_count": 25,
   "metadata": {},
   "outputs": [
    {
     "data": {
      "text/plain": [
       "array([['TACSTD2', 0.24162966691981316],\n",
       "       ['ABCB1', 0.17431187015779737],\n",
       "       ['CDH17', 0.11627043912993147],\n",
       "       ['FN1', 0.0662024348319731],\n",
       "       ['RARRES3', 0.05575212700892972],\n",
       "       ['KRT19', 0.052442872242565254],\n",
       "       ['FABP1', 0.048022600951778335],\n",
       "       ['PLIN2', 0.043167846702976964],\n",
       "       ['TWIST1', 0.04109952784284807],\n",
       "       ['GDF15', 0.019623022703692514],\n",
       "       ['DKK1', 0.0158084778990971],\n",
       "       ['PHGR1', 0.013996073481686718],\n",
       "       ['EPCAM', 0.0],\n",
       "       ['SEPP1', 0.0],\n",
       "       ['TGFBI', 0.0],\n",
       "       ['DUSP4', 0.0],\n",
       "       ['PLBD1', 0.0],\n",
       "       ['TNFSF10', 0.0],\n",
       "       ['SRGN', 0.0],\n",
       "       ['CNRIP1', 0.0],\n",
       "       ['VAMP8', 0.0],\n",
       "       ['RARRES1', 0.0],\n",
       "       ['SPP1', 0.0],\n",
       "       ['RAB17', 0.0],\n",
       "       ['CTGF', 0.0],\n",
       "       ['TSPAN1', 0.0],\n",
       "       ['RGS4', 0.0],\n",
       "       ['IGFBP2', 0.0],\n",
       "       ['EFEMP1', 0.0],\n",
       "       ['GALNT3', 0.0],\n",
       "       ['C3orf14', 0.0],\n",
       "       ['SPARC', 0.0],\n",
       "       ['TPD52L1', 0.0],\n",
       "       ['LDHB', 0.0],\n",
       "       ['SLPI', 0.0],\n",
       "       ['IFI6', 0.0],\n",
       "       ['MT2A', 0.0],\n",
       "       ['RAB25', 0.0],\n",
       "       ['IER3', 0.0],\n",
       "       ['TUBB2B', 0.0],\n",
       "       ['MYC', 0.0],\n",
       "       ['SERPINE2', 0.0],\n",
       "       ['KRT7', 0.0],\n",
       "       ['PRPH', 0.0],\n",
       "       ['ANXA1', 0.0],\n",
       "       ['FAM127A', 0.0],\n",
       "       ['MYCN', 0.0],\n",
       "       ['BEX1', 0.0],\n",
       "       ['RNF128', 0.0],\n",
       "       ['RAMP1', 0.0],\n",
       "       ['BMP4', 0.0],\n",
       "       ['LGALS3', 0.0],\n",
       "       ['PPP1R1B', 0.0],\n",
       "       ['MAP1B', 0.0],\n",
       "       ['AKAP12', 0.0],\n",
       "       ['PXDN', 0.0],\n",
       "       ['BST2', 0.0],\n",
       "       ['RPS4Y1', 0.0],\n",
       "       ['GNG11', 0.0],\n",
       "       ['TSPAN8', 0.0],\n",
       "       ['MDK', 0.0],\n",
       "       ['C3', 0.0],\n",
       "       ['MGP', 0.0],\n",
       "       ['RAB34', 0.0],\n",
       "       ['CPE', 0.0],\n",
       "       ['PYGL', 0.0],\n",
       "       ['DSP', 0.0],\n",
       "       ['LYZ', 0.0],\n",
       "       ['TESC', 0.0],\n",
       "       ['GSTP1', 0.0],\n",
       "       ['CXCL2', 0.0],\n",
       "       ['CHRNA3', 0.0],\n",
       "       ['EDN1', 0.0],\n",
       "       ['HOXA9', 0.0],\n",
       "       ['CA12', 0.0],\n",
       "       ['IGF2BP2', 0.0],\n",
       "       ['GAL', 0.0],\n",
       "       ['SYT1', 0.0],\n",
       "       ['KIF26A', 0.0],\n",
       "       ['MYLK', 0.0],\n",
       "       ['CSDA', 0.0],\n",
       "       ['CYBA', 0.0],\n",
       "       ['VCAN', 0.0],\n",
       "       ['CD44', 0.0],\n",
       "       ['VIM', 0.0],\n",
       "       ['SERPINB1', 0.0],\n",
       "       ['SNAI2', 0.0],\n",
       "       ['ISL1', 0.0],\n",
       "       ['PRSS3', 0.0],\n",
       "       ['MGST1', 0.0],\n",
       "       ['TFAP2B', 0.0],\n",
       "       ['LGALS1', 0.0],\n",
       "       ['PLEK2', 0.0],\n",
       "       ['NMU', 0.0],\n",
       "       ['CHGA', 0.0],\n",
       "       ['PHOX2B', 0.0],\n",
       "       ['SYTL2', 0.0],\n",
       "       ['KRT23', 0.0],\n",
       "       ['ACTA2', 0.0],\n",
       "       ['GATA3', 0.0],\n",
       "       ['ELAVL2', 0.0],\n",
       "       ['AGR2', 0.0],\n",
       "       ['RARRES2', 0.0],\n",
       "       ['SERPINE1', 0.0],\n",
       "       ['CAV1', 0.0],\n",
       "       ['CAV2', 0.0],\n",
       "       ['DFNA5', 0.0],\n",
       "       ['PTN', 0.0],\n",
       "       ['CEACAM5', 0.0],\n",
       "       ['TNNT1', 0.0],\n",
       "       ['NEFL', 0.0],\n",
       "       ['TUSC3', 0.0],\n",
       "       ['STMN2', 0.0],\n",
       "       ['ESRP1', 0.0],\n",
       "       ['CA2', 0.0],\n",
       "       ['QPRT', 0.0],\n",
       "       ['ESRP2', 0.0],\n",
       "       ['KLF5', 0.0],\n",
       "       ['BEX4', 0.0],\n",
       "       ['CTSZ', 0.0],\n",
       "       ['FGFBP1', 0.0],\n",
       "       ['MYOF', 0.0],\n",
       "       ['MMP7', 0.0],\n",
       "       ['MUC13', 0.0],\n",
       "       ['MAB21L1', 0.0],\n",
       "       ['TSPYL5', 0.0],\n",
       "       ['APOBEC3B', 0.0],\n",
       "       ['IRX3', 0.0],\n",
       "       ['BASP1', 0.0],\n",
       "       ['PRR15', 0.0],\n",
       "       ['GPX2', 0.0],\n",
       "       ['NUPR1', 0.0],\n",
       "       ['TUBB6', 0.0],\n",
       "       ['SFN', 0.0],\n",
       "       ['HOXB2', 0.0],\n",
       "       ['GPR160', 0.0],\n",
       "       ['AGR3', 0.0],\n",
       "       ['SQRDL', 0.0],\n",
       "       ['LRRN3', 0.0],\n",
       "       ['MUCL1', 0.0],\n",
       "       ['SCG2', 0.0],\n",
       "       ['LGALS4', 0.0],\n",
       "       ['KRT20', 0.0],\n",
       "       ['UGT2B7', 0.0],\n",
       "       ['CDH2', 0.0],\n",
       "       ['KRT8', 0.0],\n",
       "       ['FOS', 0.0],\n",
       "       ['TM4SF1', 0.0],\n",
       "       ['TM4SF4', 0.0],\n",
       "       ['SDC2', 0.0],\n",
       "       ['CLRN3', 0.0],\n",
       "       ['PNMAL1', 0.0],\n",
       "       ['C1S', 0.0],\n",
       "       ['PCP4', 0.0],\n",
       "       ['MIR205HG', 0.0],\n",
       "       ['UCA1', 0.0],\n",
       "       ['AKR1B10P1', 0.0],\n",
       "       ['MLLT11', 0.0],\n",
       "       ['SERPINB5', 0.0],\n",
       "       ['HSPA1A', 0.0],\n",
       "       ['PSMB8', 0.0],\n",
       "       ['EPS8L3', 0.0],\n",
       "       ['AKR1B10', 0.0],\n",
       "       ['S100A6', 0.0],\n",
       "       ['S100A10', 0.0],\n",
       "       ['DPP4', 0.0],\n",
       "       ['ACSL5', 0.0],\n",
       "       ['ANXA4', 0.0],\n",
       "       ['SULF2', 0.0],\n",
       "       ['S100A4', 0.0],\n",
       "       ['AKR1C3', 0.0],\n",
       "       ['SYCP2', 0.0],\n",
       "       ['S100A14', 0.0],\n",
       "       ['CLDN4', 0.0],\n",
       "       ['S100A16', 0.0],\n",
       "       ['AKR1C1', 0.0],\n",
       "       ['IFIT1', 0.0],\n",
       "       ['PRAME', 0.0],\n",
       "       ['IFITM2', 0.0],\n",
       "       ['IGFBP6', 0.0],\n",
       "       ['C19orf33', 0.0],\n",
       "       ['SPINT2', 0.0],\n",
       "       ['TFF3', 0.0],\n",
       "       ['KRTCAP3', 0.0],\n",
       "       ['MX1', 0.0],\n",
       "       ['UCHL1', 0.0],\n",
       "       ['PLOD2', 0.0],\n",
       "       ['SPOCK1', 0.0],\n",
       "       ['AKR1C2', 0.0],\n",
       "       ['PRSS23', 0.0],\n",
       "       ['LCN2', 0.0],\n",
       "       ['MAL2', 0.0],\n",
       "       ['MSN', 0.0],\n",
       "       ['IGFBP3', 0.0],\n",
       "       ['PLK2', 0.0],\n",
       "       ['SLC10A4', 0.0],\n",
       "       ['SELENBP1', 0.0],\n",
       "       ['RGS5', 0.0],\n",
       "       ['CYR61', 0.0],\n",
       "       ['EMP3', 0.0],\n",
       "       ['IFITM3', 0.0],\n",
       "       ['GCNT3', 0.0],\n",
       "       ['SLC27A2', 0.0],\n",
       "       ['RTN1', 0.0],\n",
       "       ['DUSP6', 0.0],\n",
       "       ['ERP27', 0.0],\n",
       "       ['ANXA3', 0.0],\n",
       "       ['HLA-B', 0.0],\n",
       "       ['TMSB15A', 0.0],\n",
       "       ['TFF1', 0.0],\n",
       "       ['TMC4', 0.0],\n",
       "       ['AZGP1', 0.0],\n",
       "       ['TUBA1A', 0.0],\n",
       "       ['IGF2', 0.0],\n",
       "       ['PRR15L', 0.0],\n",
       "       ['SCG5', 0.0],\n",
       "       ['C15orf48', 0.0],\n",
       "       ['NNMT', 0.0],\n",
       "       ['NGFRAP1', 0.0],\n",
       "       ['CENPV', 0.0],\n",
       "       ['HTRA1', 0.0],\n",
       "       ['IFI27', 0.0],\n",
       "       ['CDX2', 0.0],\n",
       "       ['CLDN3', 0.0],\n",
       "       ['FBP1', 0.0],\n",
       "       ['ALDH1A1', 0.0],\n",
       "       ['FOXQ1', 0.0],\n",
       "       ['HAND2', 0.0],\n",
       "       ['S100P', 0.0],\n",
       "       ['RPL39L', 0.0],\n",
       "       ['IFI16', 0.0],\n",
       "       ['S100A9', 0.0],\n",
       "       ['S100A11', 0.0],\n",
       "       ['INHBB', 0.0],\n",
       "       ['ELAVL4', 0.0],\n",
       "       ['PDZK1IP1', 0.0],\n",
       "       ['EMC10', 0.0],\n",
       "       ['TFPI', 0.0]], dtype=object)"
      ]
     },
     "execution_count": 25,
     "metadata": {},
     "output_type": "execute_result"
    }
   ],
   "source": [
    "validation_result = get_sorted_features(X_test, y_test, gene_expression.columns ,best_alpha)\n",
    "validation_result"
   ]
  },
  {
   "cell_type": "markdown",
   "metadata": {},
   "source": [
    "\n",
    "Look at the features selected using the hyperparameter which corresponds to the minimum cross-validation error.\n",
    "\n",
    "<p><font color='#775a0a'>Is the partition in training and validation sets playing a role in the selection of the hyperparameter? How will this affect the selection of the relevant features?</font></p>\n",
    "\n",
    "Yes, as can be seen above when the model is trained with both the training set or the smaller validation set, the magnitude of the coefficients change. With the larger training data we get less \"important\" coefficients, each having a higher magnitude. Whereas, when the model is trained with the smaller validation data, the magnitudes are spready over more coefficients.\n",
    "\n",
    "This is logical as with the smaller validation dataset...\n",
    "\n",
    "<p><font color='#775a0a'>Should the value of the intercept also be shrunk to zero with Lasso and Ridge regression? Motivate your answer.</font></p>\n",
    "\n",
    "Because with Ridge and Lasso regression no penalties are given to the intercept, the intercept will not be affected. Therefore, the intercept does not shrunk to zero when lasso and rigid regression are being used. \n",
    "\n",
    "\n",
    "\n",
    "## Bias-variance \n",
    "\n",
    "Show the effect of the regularization on the parameter estimates in terms of bias and variance. For this you can repeat the optimization 100 times using bootstrap and visualise the profile of the Lasso regression coefficient over a grid of the hyperparameter, optionally including the variability as error bars.\n",
    "\n",
    "<p><font color='#775a0a'>Based on the visual analysis of the plot, what are your observation on bias and variance in relation to model complexity? Motivate your answer.</font></p>\n",
    "\n",
    "\n",
    "## Logistic regression\n",
    "\n",
    "<p><font color='#775a0a'>Write the expression of the objective function for the penalized logistic regression with $L_1$ and $L_2$ regularisation (as in Elastic net).</font></p>\n",
    "\n",
    "The loss function of logistic regression for a binary classification problem is the negative log-likelihood. In the following equation, $\\theta$ represents the model parameters, $n$ the total amount of training samples, $y_{i}$ the class label and $p(y_{i} = 1 | x_{i},\\theta)$ the probability of the class being 1:\n",
    "$$\\mathcal{L}(\\theta) = -\\frac{1}{n} \\sum^{n}_{i=1} (y_{i}log(p(y_{i} = 1 | x_{i},\\theta)) + (1 - y_{i})log(1 - p(y_{i} = 1 | x_{i},\\theta)))$$\n",
    "\n",
    "Adding Lasso (L1) and Rigde (L2) regularization results in the final objective function. Here, $\\lambda_{1}$ and $\\lambda_{2}$ represent tunable regularization parameters. The regularization terms are added to the negative log-likelihood as a pentalty.\n",
    "$$J(\\theta) = \\mathcal{L}(\\theta) + \\lambda_{1}||\\theta||_{1} + \\lambda_{2}||\\theta||^{2}_{2}$$\n",
    "\n",
    "This loss function needs to be minimized to find the optimal parameters ($\\theta^{*}$) for the logistic regression model:\n",
    "$$\\theta^{*} = \\underset{\\theta}{argmin} \\ J(\\theta)$$"
   ]
  }
 ],
 "metadata": {
  "kernelspec": {
   "display_name": "Python 3",
   "language": "python",
   "name": "python3"
  },
  "language_info": {
   "codemirror_mode": {
    "name": "ipython",
    "version": 3
   },
   "file_extension": ".py",
   "mimetype": "text/x-python",
   "name": "python",
   "nbconvert_exporter": "python",
   "pygments_lexer": "ipython3",
   "version": "3.12.4"
  }
 },
 "nbformat": 4,
 "nbformat_minor": 2
}
