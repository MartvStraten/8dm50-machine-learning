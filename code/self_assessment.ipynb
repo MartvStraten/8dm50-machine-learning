{
 "cells": [
  {
   "cell_type": "code",
   "execution_count": 1,
   "metadata": {},
   "outputs": [
    {
     "name": "stdout",
     "output_type": "stream",
     "text": [
      "[[ 3  4  5]\n",
      " [ 6  7  8]\n",
      " [ 9 10 11]]\n"
     ]
    }
   ],
   "source": [
    "import numpy as np\n",
    "\n",
    "def question1(a):\n",
    "    array = []\n",
    "    for i in range(a, a+9, 3):\n",
    "        array.append([i, i+1, i+2])   \n",
    "    return np.array(array)\n",
    "        \n",
    "print(question1(3))\n",
    "    "
   ]
  },
  {
   "cell_type": "code",
   "execution_count": 2,
   "metadata": {},
   "outputs": [
    {
     "data": {
      "text/plain": [
       "array([10.2 , -3.1 ,  9.33])"
      ]
     },
     "execution_count": 2,
     "metadata": {},
     "output_type": "execute_result"
    }
   ],
   "source": [
    "def question2(A):\n",
    "    for i in range(len(A)):\n",
    "        if A[i] < 0:\n",
    "            return A\n",
    "    return A.astype(\"uint16\")\n",
    "\n",
    "pos_array = np.array([10.2, 3.1, 9.33]) \n",
    "neg_array = np.array([10.2, -3.1, 9.33])\n",
    "question2(neg_array)"
   ]
  },
  {
   "cell_type": "code",
   "execution_count": 3,
   "metadata": {},
   "outputs": [
    {
     "name": "stdout",
     "output_type": "stream",
     "text": [
      "[[0. 0. 0. 0. 0.]\n",
      " [0. 1. 1. 1. 0.]\n",
      " [0. 1. 1. 1. 0.]\n",
      " [0. 1. 1. 1. 0.]\n",
      " [0. 0. 0. 0. 0.]]\n"
     ]
    }
   ],
   "source": [
    "def question3(a):\n",
    "    array = np.ones((a, a))\n",
    "    array[0, :] = np.zeros(a)\n",
    "    array[-1, :] = np.zeros(a)\n",
    "    array[:, 0] = np.zeros(a)\n",
    "    array[:, -1] = np.zeros(a) \n",
    "    return array\n",
    "\n",
    "print(question3(5))"
   ]
  },
  {
   "cell_type": "code",
   "execution_count": 4,
   "metadata": {},
   "outputs": [
    {
     "name": "stdout",
     "output_type": "stream",
     "text": [
      "1.8912370689655176\n"
     ]
    }
   ],
   "source": [
    "from scipy.interpolate import interp1d\n",
    "\n",
    "x = np.asarray([1, 5, 10, 20, 30])\n",
    "y = np.asarray([1, 1.2, 1.8, 3, 10])\n",
    "f = interp1d(x, y, \"quadratic\")\n",
    "print(f(11))"
   ]
  }
 ],
 "metadata": {
  "kernelspec": {
   "display_name": "8dm50",
   "language": "python",
   "name": "python3"
  },
  "language_info": {
   "codemirror_mode": {
    "name": "ipython",
    "version": 3
   },
   "file_extension": ".py",
   "mimetype": "text/x-python",
   "name": "python",
   "nbconvert_exporter": "python",
   "pygments_lexer": "ipython3",
   "version": "3.10.13"
  }
 },
 "nbformat": 4,
 "nbformat_minor": 2
}
